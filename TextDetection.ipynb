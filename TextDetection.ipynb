{
 "cells": [
  {
   "cell_type": "code",
   "execution_count": 1,
   "metadata": {
    "colab": {
     "base_uri": "https://localhost:8080/"
    },
    "id": "DSj4RcPdtoul",
    "outputId": "eb781bcc-0c15-481b-995a-e61e2b703b9b"
   },
   "outputs": [],
   "source": [
    "# !sudo apt install tesseract-ocr\n",
    "# !pip install pytesseract\n",
    "from sortedcontainers import SortedDict\n",
    "import cv2\n",
    "import pytesseract"
   ]
  },
  {
   "cell_type": "code",
   "execution_count": 2,
   "metadata": {},
   "outputs": [],
   "source": [
    "def getAlpha(s):\n",
    "    result = ''\n",
    "    for c in s:\n",
    "        if c >= 'a' and c <= 'z':\n",
    "            result += c\n",
    "        if c >= 'A' and c <= 'Z':\n",
    "            result += c\n",
    "        if c==' ':\n",
    "            result += c\n",
    "    return result.strip()"
   ]
  },
  {
   "cell_type": "code",
   "execution_count": 3,
   "metadata": {
    "colab": {
     "base_uri": "https://localhost:8080/"
    },
    "id": "9MiqbxP8tymT",
    "outputId": "6e6a35d6-6dcc-4a36-c603-f01872c93e6e"
   },
   "outputs": [
    {
     "name": "stdout",
     "output_type": "stream",
     "text": [
      "ADVERTISEMENT\n",
      "-------------------------------------------\n",
      "Tus publication of the Works of Joan Knox it issupposed will extend to Five Volumes It was thoughtadvisable to commence the series with his History ofthe Reformation in Scotland as the work of greatestimportance The next volume will thus contain theThird and Fourth Books which continue the History tothe year  at which period his historical laboursmay be considered to terminate But the Fifth Bookforming a sequel to the History and published underhis name in  will also be included His Lettersand Miscellaneous Writings will be arranged in thesubsequent volumes as nearly as possible in chronological order  each portion being introduced by a separatenotice respecting the manuscript or printed copies fromwhich they have been taken\n",
      "-------------------------------------------\n",
      "It may perhaps be expected that a Life of the Authorshould have been prefixed to this volume The Life ofKnox by Dr MCrig is however a work so universallyknown and of so much historical value as to supersedeany attempt that might be made for a detailed bio\n",
      "-------------------------------------------\n"
     ]
    }
   ],
   "source": [
    "img = cv2.imread(\"test.jpeg\")\n",
    "\n",
    "# Preprocessing the image starts\n",
    " \n",
    "# Convert the image to gray scale\n",
    "gray = cv2.cvtColor(img, cv2.COLOR_BGR2GRAY)\n",
    " \n",
    "# Performing OTSU threshold\n",
    "ret, thresh1 = cv2.threshold(gray, 0, 255, cv2.THRESH_OTSU | cv2.THRESH_BINARY_INV)\n",
    " \n",
    "# Specify structure shape and kernel size.\n",
    "# Kernel size increases or decreases the area\n",
    "# of the rectangle to be detected.\n",
    "# A smaller value like (10, 10) will detect\n",
    "# each word instead of a sentence.\n",
    "rect_kernel = cv2.getStructuringElement(cv2.MORPH_RECT, (15, 15))\n",
    " \n",
    "# Applying dilation on the threshold image\n",
    "dilation = cv2.dilate(thresh1, rect_kernel, iterations = 1)\n",
    " \n",
    "# Finding contours\n",
    "contours, hierarchy = cv2.findContours(dilation, cv2.RETR_EXTERNAL,\n",
    "                                                 cv2.CHAIN_APPROX_NONE)\n",
    " \n",
    "# Creating a copy of image\n",
    "im2 = img.copy()\n",
    " \n",
    "# A text file is created and flushed\n",
    "file = open(\"recognized.txt\", \"w+\")\n",
    "file.write(\"\")\n",
    "file.close()\n",
    " \n",
    "# Looping through the identified contours\n",
    "# Then rectangular part is cropped and passed on\n",
    "# to pytesseract for extracting text from it\n",
    "# Extracted text is then written into the text file\n",
    "position_map = {}\n",
    "count = 0\n",
    "for i,cnt in enumerate(contours):\n",
    "    count += 1\n",
    "    x, y, w, h = cv2.boundingRect(cnt)\n",
    "     \n",
    "    # Drawing a rectangle on copied image\n",
    "    rect = cv2.rectangle(im2, (x, y), (x + w, y + h), (0, 255, 0), 2)\n",
    "     \n",
    "    # Cropping the text block for giving input to OCR\n",
    "    cropped = im2[y:y + h, x:x + w]\n",
    "     \n",
    "    # Open the file in append mode\n",
    "     \n",
    "    # Apply OCR on the cropped image\n",
    "    text = pytesseract.image_to_string(cropped)\n",
    "    text = getAlpha(text)\n",
    "    if text != '':\n",
    "        position_map[1000*y + x] = text\n",
    "    # if len(text) > 1:\n",
    "    #     file = open(\"recognized.txt\", \"a\")\n",
    "    #     # Appending the text into file\n",
    "    #     file.write(text)\n",
    "    #     file.write(\"\\n\")\n",
    "        \n",
    "    #     # Close the file\n",
    "    #     file.close()\n",
    "# print(count)\n",
    "d = SortedDict(position_map)\n",
    "for key in d.keys():\n",
    "    print(d[key])\n",
    "    print('-------------------------------------------')"
   ]
  },
  {
   "cell_type": "code",
   "execution_count": 4,
   "metadata": {},
   "outputs": [
    {
     "data": {
      "text/plain": [
       "True"
      ]
     },
     "execution_count": 4,
     "metadata": {},
     "output_type": "execute_result"
    }
   ],
   "source": [
    "cv2.imwrite('Copy.jpg', im2)"
   ]
  }
 ],
 "metadata": {
  "colab": {
   "name": "TextDetection.ipynb",
   "provenance": []
  },
  "interpreter": {
   "hash": "31f2aee4e71d21fbe5cf8b01ff0e069b9275f58929596ceb00d14d90e3e16cd6"
  },
  "kernelspec": {
   "display_name": "Python 3",
   "language": "python",
   "name": "python3"
  },
  "language_info": {
   "codemirror_mode": {
    "name": "ipython",
    "version": 3
   },
   "file_extension": ".py",
   "mimetype": "text/x-python",
   "name": "python",
   "nbconvert_exporter": "python",
   "pygments_lexer": "ipython3",
   "version": "3.8.10"
  }
 },
 "nbformat": 4,
 "nbformat_minor": 4
}

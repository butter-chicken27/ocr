{
  "nbformat": 4,
  "nbformat_minor": 2,
  "metadata": {
    "colab": {
      "name": "TextDetection.ipynb",
      "provenance": []
    },
    "kernelspec": {
      "name": "python3",
      "display_name": "Python 3.8.10 64-bit"
    },
    "language_info": {
      "name": "python",
      "version": "3.8.10",
      "mimetype": "text/x-python",
      "codemirror_mode": {
        "name": "ipython",
        "version": 3
      },
      "pygments_lexer": "ipython3",
      "nbconvert_exporter": "python",
      "file_extension": ".py"
    },
    "interpreter": {
      "hash": "31f2aee4e71d21fbe5cf8b01ff0e069b9275f58929596ceb00d14d90e3e16cd6"
    }
  },
  "cells": [
    {
      "cell_type": "code",
      "execution_count": 18,
      "source": [
        "# !sudo apt install tesseract-ocr\n",
        "# !pip install pytesseract\n",
        "from sortedcontainers import SortedDict\n",
        "import cv2\n",
        "import pytesseract"
      ],
      "outputs": [],
      "metadata": {
        "colab": {
          "base_uri": "https://localhost:8080/"
        },
        "id": "DSj4RcPdtoul",
        "outputId": "eb781bcc-0c15-481b-995a-e61e2b703b9b"
      }
    },
    {
      "cell_type": "code",
      "execution_count": 19,
      "source": [
        "def getAlpha(s):\n",
        "    result = ''\n",
        "    for c in s:\n",
        "        if c >= 'a' and c <= 'z':\n",
        "            result += c\n",
        "        if c >= 'A' and c <= 'Z':\n",
        "            result += c\n",
        "    return result.strip()"
      ],
      "outputs": [],
      "metadata": {}
    },
    {
      "cell_type": "code",
      "execution_count": 20,
      "source": [
        "img = cv2.imread(\"sample4.png\")\n",
        " \n",
        "# Preprocessing the image starts\n",
        " \n",
        "# Convert the image to gray scale\n",
        "gray = cv2.cvtColor(img, cv2.COLOR_BGR2GRAY)\n",
        " \n",
        "# Performing OTSU threshold\n",
        "ret, thresh1 = cv2.threshold(gray, 0, 255, cv2.THRESH_OTSU | cv2.THRESH_BINARY_INV)\n",
        " \n",
        "# Specify structure shape and kernel size.\n",
        "# Kernel size increases or decreases the area\n",
        "# of the rectangle to be detected.\n",
        "# A smaller value like (10, 10) will detect\n",
        "# each word instead of a sentence.\n",
        "rect_kernel = cv2.getStructuringElement(cv2.MORPH_RECT, (10, 10))\n",
        " \n",
        "# Applying dilation on the threshold image\n",
        "dilation = cv2.dilate(thresh1, rect_kernel, iterations = 1)\n",
        " \n",
        "# Finding contours\n",
        "contours, hierarchy = cv2.findContours(dilation, cv2.RETR_EXTERNAL,\n",
        "                                                 cv2.CHAIN_APPROX_NONE)\n",
        " \n",
        "# Creating a copy of image\n",
        "im2 = img.copy()\n",
        " \n",
        "# A text file is created and flushed\n",
        "file = open(\"recognized.txt\", \"w+\")\n",
        "file.write(\"\")\n",
        "file.close()\n",
        " \n",
        "# Looping through the identified contours\n",
        "# Then rectangular part is cropped and passed on\n",
        "# to pytesseract for extracting text from it\n",
        "# Extracted text is then written into the text file\n",
        "position_map = {}\n",
        "count = 0\n",
        "for cnt in contours:\n",
        "    count += 1\n",
        "    x, y, w, h = cv2.boundingRect(cnt)\n",
        "     \n",
        "    # Drawing a rectangle on copied image\n",
        "    rect = cv2.rectangle(im2, (x, y), (x + w, y + h), (0, 255, 0), 2)\n",
        "     \n",
        "    # Cropping the text block for giving input to OCR\n",
        "    cropped = im2[y:y + h, x:x + w]\n",
        "     \n",
        "    # Open the file in append mode\n",
        "     \n",
        "    # Apply OCR on the cropped image\n",
        "    text = pytesseract.image_to_string(cropped)\n",
        "    text = getAlpha(text)\n",
        "    if text != '':\n",
        "        print(text)\n",
        "        position_map[1000*y + x] = text\n",
        "    # if len(text) > 1:\n",
        "    #     file = open(\"recognized.txt\", \"a\")\n",
        "    #     # Appending the text into file\n",
        "    #     file.write(text)\n",
        "    #     file.write(\"\\n\")\n",
        "        \n",
        "    #     # Close the file\n",
        "    #     file.close()\n",
        "print(count)\n",
        "d = SortedDict(position_map)\n",
        "for key in d.keys():\n",
        "    print(d[key])"
      ],
      "outputs": [
        {
          "output_type": "stream",
          "name": "stdout",
          "text": [
            "Submit\n",
            "\n",
            "\n",
            "Email\n",
            "name\n",
            "name\n",
            "Last\n",
            "First\n",
            "Name\n",
            "\n",
            "ContactForm\n",
            "11\n",
            "ContactForm\n",
            "\n",
            "Name\n",
            "First\n",
            "Last\n",
            "name\n",
            "name\n",
            "Email\n",
            "\n",
            "\n",
            "Submit\n"
          ]
        }
      ],
      "metadata": {
        "colab": {
          "base_uri": "https://localhost:8080/"
        },
        "id": "9MiqbxP8tymT",
        "outputId": "6e6a35d6-6dcc-4a36-c603-f01872c93e6e"
      }
    },
    {
      "cell_type": "code",
      "execution_count": 21,
      "source": [
        "cv2.imwrite('Copy.jpg', im2)"
      ],
      "outputs": [
        {
          "output_type": "execute_result",
          "data": {
            "text/plain": [
              "True"
            ]
          },
          "metadata": {},
          "execution_count": 21
        }
      ],
      "metadata": {}
    }
  ]
}